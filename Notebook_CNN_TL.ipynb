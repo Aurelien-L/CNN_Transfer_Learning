{
 "cells": [
  {
   "cell_type": "markdown",
   "id": "79469153",
   "metadata": {},
   "source": [
    "<img src=\"img/banner.png\" width = 90%>\n"
   ]
  },
  {
   "cell_type": "markdown",
   "id": "2d4792f9",
   "metadata": {},
   "source": []
  }
 ],
 "metadata": {
  "kernelspec": {
   "display_name": ".venv",
   "language": "python",
   "name": "python3"
  },
  "language_info": {
   "name": "python",
   "version": "3.10.10"
  }
 },
 "nbformat": 4,
 "nbformat_minor": 5
}
